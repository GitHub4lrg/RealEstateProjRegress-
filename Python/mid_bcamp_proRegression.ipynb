{
 "cells": [
  {
   "cell_type": "markdown",
   "id": "ecbddad4",
   "metadata": {},
   "source": [
    "Import tools & libraries"
   ]
  },
  {
   "cell_type": "code",
   "execution_count": null,
   "id": "a8147edd",
   "metadata": {},
   "outputs": [],
   "source": [
    "# importing python package\n",
    "import warnings\n",
    "warnings.filterwarnings('ignore')\n",
    "import numpy as np\n",
    "import pandas as pd\n",
    "#import math\n",
    "import matplotlib.pyplot as plt\n",
    "import seaborn as sns \n",
    "%matplotlib inline\n",
    "from sklearn.neighbors import KNeighborsClassifier\n",
    "from sklearn.preprocessing import MinMaxScaler\n",
    "from sklearn import linear_model\n",
    "from sklearn.metrics import mean_squared_error, r2_score\n",
    "from sklearn.model_selection import train_test_split\n",
    "from sklearn.preprocessing import Normalizer\n",
    "from sklearn.preprocessing import OneHotEncoder\n",
    "from sklearn.metrics import accuracy_score\n",
    "from sklearn.metrics import mean_squared_error as mse \n",
    "#from sklearn.metrics import mean_absolute_error as mae"
   ]
  },
  {
   "cell_type": "markdown",
   "id": "9e69e198",
   "metadata": {},
   "source": [
    "Objective: To predict the price of a house based on features provided in the dataset.\n",
    "Get contents of the Data (csv or excel file)"
   ]
  },
  {
   "cell_type": "code",
   "execution_count": null,
   "id": "22b17c1a",
   "metadata": {},
   "outputs": [],
   "source": [
    "df = pd.read_excel('C:/Users/ronal/Documents/IRONHACK/data_mid_bootcamp_project_regression/regression_data.xls')"
   ]
  },
  {
   "cell_type": "code",
   "execution_count": null,
   "id": "5984b9be",
   "metadata": {},
   "outputs": [],
   "source": [
    "df1 =df.copy(deep = True)"
   ]
  },
  {
   "cell_type": "markdown",
   "id": "00e4a3c2",
   "metadata": {},
   "source": [
    "Exploration of Data (EDA)\n",
    "- check for structure of the data\n",
    "- # headers are standarized on format\n",
    "- check numerical variable visually"
   ]
  },
  {
   "cell_type": "code",
   "execution_count": null,
   "id": "95de04d6",
   "metadata": {},
   "outputs": [],
   "source": [
    "df.shape"
   ]
  },
  {
   "cell_type": "code",
   "execution_count": null,
   "id": "dd3fa91a",
   "metadata": {},
   "outputs": [],
   "source": [
    "df.info()"
   ]
  },
  {
   "cell_type": "code",
   "execution_count": null,
   "id": "a892c443",
   "metadata": {},
   "outputs": [],
   "source": [
    "df.head(5)"
   ]
  },
  {
   "cell_type": "code",
   "execution_count": null,
   "id": "5a0c5457",
   "metadata": {},
   "outputs": [],
   "source": [
    "df.hist(figsize=(15,15));"
   ]
  },
  {
   "cell_type": "markdown",
   "id": "a700cafa",
   "metadata": {},
   "source": [
    "Check every column and deal with odd or `NaN` values\n",
    "Some properties have been sold more than one time (176), we are dropping those values."
   ]
  },
  {
   "cell_type": "code",
   "execution_count": null,
   "id": "ac314900",
   "metadata": {},
   "outputs": [],
   "source": [
    "df.isnull().values.any()"
   ]
  },
  {
   "cell_type": "code",
   "execution_count": null,
   "id": "e2b2834e",
   "metadata": {},
   "outputs": [],
   "source": [
    "x = df.isna().sum()/len(df)*100\n",
    "x"
   ]
  },
  {
   "cell_type": "code",
   "execution_count": null,
   "id": "a839fc4e",
   "metadata": {},
   "outputs": [],
   "source": [
    "for x in df.columns:\n",
    "    print(x, len(df[x].unique()))"
   ]
  },
  {
   "cell_type": "code",
   "execution_count": null,
   "id": "1536dec6",
   "metadata": {},
   "outputs": [],
   "source": [
    "df['id'].value_counts()"
   ]
  },
  {
   "cell_type": "code",
   "execution_count": null,
   "id": "02122bd6",
   "metadata": {},
   "outputs": [],
   "source": [
    "(df['id'].value_counts()>1).sum()"
   ]
  },
  {
   "cell_type": "markdown",
   "id": "2345873c",
   "metadata": {},
   "source": [
    "fixing data types for some features & some data cleaning."
   ]
  },
  {
   "cell_type": "code",
   "execution_count": null,
   "id": "60ae62af",
   "metadata": {},
   "outputs": [],
   "source": [
    "df['condition'] = df['condition'].astype('object')\n",
    "df['grade'] = df['grade'].astype('object')"
   ]
  },
  {
   "cell_type": "code",
   "execution_count": null,
   "id": "7d2f1da0",
   "metadata": {},
   "outputs": [],
   "source": [
    "df['waterfront'].unique()"
   ]
  },
  {
   "cell_type": "code",
   "execution_count": null,
   "id": "d291f7e0",
   "metadata": {},
   "outputs": [],
   "source": [
    "df['waterfront'].value_counts()"
   ]
  },
  {
   "cell_type": "markdown",
   "id": "d9b57bbc",
   "metadata": {},
   "source": [
    "values to be dropped \n",
    "waterfront (boolean) - 99% no waterfront\n",
    "view (boolean) - 90% no view\n",
    "bedrooms less than 9 not significant"
   ]
  },
  {
   "cell_type": "code",
   "execution_count": null,
   "id": "2e789e5f",
   "metadata": {},
   "outputs": [],
   "source": [
    "data2 = df[df['bedrooms'] < 9]"
   ]
  },
  {
   "cell_type": "code",
   "execution_count": null,
   "id": "e9efbe03",
   "metadata": {},
   "outputs": [],
   "source": [
    "data2.duplicated(subset=None, keep= False )"
   ]
  },
  {
   "cell_type": "code",
   "execution_count": null,
   "id": "fed98feb",
   "metadata": {},
   "outputs": [],
   "source": [
    "data2.drop_duplicates()"
   ]
  },
  {
   "cell_type": "code",
   "execution_count": null,
   "id": "d513eef7",
   "metadata": {},
   "outputs": [],
   "source": [
    "data2[data2.duplicated(keep = False)]"
   ]
  },
  {
   "cell_type": "markdown",
   "id": "130258df",
   "metadata": {},
   "source": [
    "we don't need id nor date for our analysis, we also dopping waterfront & view here (eliminating bias on Data)"
   ]
  },
  {
   "cell_type": "code",
   "execution_count": null,
   "id": "e9fcac98",
   "metadata": {},
   "outputs": [],
   "source": [
    "data2 = data2.drop(['id', 'date', 'zipcode', 'waterfront', 'view'], axis = 1, inplace = False)"
   ]
  },
  {
   "cell_type": "markdown",
   "id": "ae42fb6e",
   "metadata": {},
   "source": [
    "checking again for data types and nulls values\n",
    "Which columns are numerical, which are categoricals"
   ]
  },
  {
   "cell_type": "code",
   "execution_count": null,
   "id": "b0d02331",
   "metadata": {},
   "outputs": [],
   "source": [
    "data2.dtypes"
   ]
  },
  {
   "cell_type": "code",
   "execution_count": null,
   "id": "6266ce34",
   "metadata": {},
   "outputs": [],
   "source": [
    "data2.info()"
   ]
  },
  {
   "cell_type": "code",
   "execution_count": null,
   "id": "e308c5ab",
   "metadata": {},
   "outputs": [],
   "source": [
    "visualization on categoricals"
   ]
  },
  {
   "cell_type": "code",
   "execution_count": null,
   "id": "9d0c246e",
   "metadata": {},
   "outputs": [],
   "source": [
    "# condition vs price\n",
    "sns.barplot(data = data2, x = 'condition', y ='price');"
   ]
  },
  {
   "cell_type": "code",
   "execution_count": null,
   "id": "4f937762",
   "metadata": {},
   "outputs": [],
   "source": [
    "# grade vs price\n",
    "sns.barplot(data = data2, x = 'grade', y ='price');"
   ]
  },
  {
   "cell_type": "markdown",
   "id": "a14657e3",
   "metadata": {},
   "source": [
    "I choose to do some transformation to use this data\n",
    "yr_built  - how long have been built\n",
    "yr_renovated - how long since last renovation"
   ]
  },
  {
   "cell_type": "code",
   "execution_count": null,
   "id": "b69e07eb",
   "metadata": {},
   "outputs": [],
   "source": [
    "data2['yr_built'].nunique"
   ]
  },
  {
   "cell_type": "code",
   "execution_count": null,
   "id": "c30b109b",
   "metadata": {},
   "outputs": [],
   "source": [
    "data2['yr_renovated'].nunique"
   ]
  },
  {
   "cell_type": "code",
   "execution_count": null,
   "id": "16e8999e",
   "metadata": {},
   "outputs": [],
   "source": [
    "max(data2['yr_built'])"
   ]
  },
  {
   "cell_type": "markdown",
   "id": "d2f851bc",
   "metadata": {},
   "source": [
    "built a funtion to modify fiscal year into amount of years, since we have some values 0 on yr_renovated we're going \n",
    "to use in those cases the yr_built for the purpose of this task then passing the funtion to modifiers"
   ]
  },
  {
   "cell_type": "code",
   "execution_count": null,
   "id": "44f65205",
   "metadata": {},
   "outputs": [],
   "source": [
    "def modify (built, renov):\n",
    "    if renov == 0:\n",
    "        return built\n",
    "    else:\n",
    "        return renov"
   ]
  },
  {
   "cell_type": "code",
   "execution_count": null,
   "id": "98b1bc8f",
   "metadata": {},
   "outputs": [],
   "source": [
    "yrs_modif = list(map(modify, data2['yr_built'], data2['yr_renovated']))"
   ]
  },
  {
   "cell_type": "code",
   "execution_count": null,
   "id": "91a0646d",
   "metadata": {},
   "outputs": [],
   "source": [
    "data2['yr_renovated'] = yrs_modif"
   ]
  },
  {
   "cell_type": "code",
   "execution_count": null,
   "id": "cdc8497c",
   "metadata": {},
   "outputs": [],
   "source": [
    "data2['yr_built'] = data2['yr_built'].sub(2015).mul(-1)"
   ]
  },
  {
   "cell_type": "code",
   "execution_count": null,
   "id": "043bd879",
   "metadata": {},
   "outputs": [],
   "source": [
    "data2['yr_renovated'] = data2['yr_renovated'].sub(2015).mul(-1)"
   ]
  },
  {
   "cell_type": "code",
   "execution_count": null,
   "id": "500084d7",
   "metadata": {},
   "outputs": [],
   "source": [
    "data2"
   ]
  },
  {
   "cell_type": "markdown",
   "id": "cc816a1b",
   "metadata": {},
   "source": [
    "Explore the data, look for correlations and patterns\n",
    "merge x and y\n",
    "describe chart (.describe().t)\n",
    "IQR"
   ]
  },
  {
   "cell_type": "code",
   "execution_count": null,
   "id": "6e9b82db",
   "metadata": {},
   "outputs": [],
   "source": [
    "correlations_matrix = data2.corr()\n",
    "mask = np.zeros_like(correlations_matrix)\n",
    "mask[np.triu_indices_from(mask)] = True\n",
    "\n",
    "fig, ax = plt.subplots(figsize = (20,15))\n",
    "ax = sns.heatmap(correlations_matrix, mask = mask, annot= True, cmap='Blues')\n",
    "plt.yticks(rotation = 0)\n",
    "plt.show()"
   ]
  },
  {
   "cell_type": "code",
   "execution_count": null,
   "id": "9d9b1f0c",
   "metadata": {},
   "outputs": [],
   "source": [
    "correlations_matrix.shape"
   ]
  },
  {
   "cell_type": "code",
   "execution_count": null,
   "id": "2ab60ee9",
   "metadata": {},
   "outputs": [],
   "source": [
    "data2.describe().T"
   ]
  },
  {
   "cell_type": "markdown",
   "id": "ba0ce46c",
   "metadata": {},
   "source": [
    "looking for outliers here and eliminating"
   ]
  },
  {
   "cell_type": "code",
   "execution_count": null,
   "id": "78adff36",
   "metadata": {},
   "outputs": [],
   "source": [
    "for x in data2.columns:\n",
    "    if data2[x].dtype == \"int64\" or data2[x].dtype == \"float64\":\n",
    "        sns.distplot(data2[x])\n",
    "        plt.show()"
   ]
  },
  {
   "cell_type": "markdown",
   "id": "470c6f58",
   "metadata": {},
   "source": [
    "data needing log transf, taking care of some outliers here"
   ]
  },
  {
   "cell_type": "code",
   "execution_count": null,
   "id": "d2bb3db0",
   "metadata": {},
   "outputs": [],
   "source": [
    "list2 = ['sqft_lot', 'sqft_above','sqft_basement', 'sqft_lot15']"
   ]
  },
  {
   "cell_type": "code",
   "execution_count": null,
   "id": "f6d9217a",
   "metadata": {},
   "outputs": [],
   "source": [
    "lost_data = 0\n",
    "for x in list2:\n",
    "    o_size = data2.shape[0]\n",
    "    iqr = np.percentile(data2[x],75) - np.percentile(data2[x],25)\n",
    "    upper_limit = np.percentile(data2[x],75) + 1.5*iqr\n",
    "    lower_limit = np.percentile(data2[x],25) - 0.5*iqr\n",
    "    gk_log = data2[(data2[x]>lower_limit) & (data2[x]<upper_limit)][x]\n",
    "    lost_data += o_size - gk_log.shape[0]\n",
    "    sns.distplot(gk_log)\n",
    "    plt.show()\n",
    "    \n",
    "# iqr = np.percentile(data1['sqft_lot'],75) - np.percentile(data1['sqft_lot'],25)\n",
    "# upper_limit = np.percentile(data1['sqft_lot'],75) + 1.5*iqr\n",
    "# lower_limit = np.percentile(data1['sqft_lot'],25) - 0.5*iqr\n",
    "# sns.distplot(data1[(data1['sqft_lot']>lower_limit) & (data1['sqft_lot']<upper_limit)]['sqft_lot'])\n",
    "# print(len(gk_log) - len(data1[(data1['sqft_lot']>lower_limit) & (data1['sqft_lot']<upper_limit)]['sqft_lot']))\n",
    "# plt.show()"
   ]
  },
  {
   "cell_type": "code",
   "execution_count": null,
   "id": "c718cd97",
   "metadata": {},
   "outputs": [],
   "source": [
    "plotting some of the price correlations here"
   ]
  },
  {
   "cell_type": "code",
   "execution_count": null,
   "id": "73cf62ed",
   "metadata": {},
   "outputs": [],
   "source": [
    "sns.regplot(x = 'sqft_living', y = 'price', data = data2);"
   ]
  },
  {
   "cell_type": "code",
   "execution_count": null,
   "id": "78a78e25",
   "metadata": {},
   "outputs": [],
   "source": [
    "sns.regplot(x = 'sqft_lot', y = 'price', data = data2);"
   ]
  },
  {
   "cell_type": "code",
   "execution_count": null,
   "id": "d3bc9672",
   "metadata": {},
   "outputs": [],
   "source": [
    "sns.regplot(x = 'sqft_above', y = 'price', data = data2);"
   ]
  },
  {
   "cell_type": "code",
   "execution_count": null,
   "id": "7950690d",
   "metadata": {},
   "outputs": [],
   "source": [
    "sns.regplot(x = 'sqft_basement', y = 'price', data = data2);"
   ]
  },
  {
   "cell_type": "markdown",
   "id": "dc3b0848",
   "metadata": {},
   "source": [
    "separate my Y axis and then drop that column from my variables data\n",
    "numericals & categoricals"
   ]
  },
  {
   "cell_type": "code",
   "execution_count": null,
   "id": "47e8a9cd",
   "metadata": {},
   "outputs": [],
   "source": [
    "Y = data2['price']"
   ]
  },
  {
   "cell_type": "code",
   "execution_count": null,
   "id": "a4354a88",
   "metadata": {},
   "outputs": [],
   "source": [
    "X = data2.drop(['price'], axis=1)"
   ]
  },
  {
   "cell_type": "code",
   "execution_count": null,
   "id": "621fe56c",
   "metadata": {},
   "outputs": [],
   "source": [
    "x_num = data2.select_dtypes(np.number)\n",
    "x_cat = data2.select_dtypes(np.object)"
   ]
  },
  {
   "cell_type": "code",
   "execution_count": null,
   "id": "19516851",
   "metadata": {},
   "outputs": [],
   "source": [
    "x_num.head()"
   ]
  },
  {
   "cell_type": "code",
   "execution_count": null,
   "id": "56ee1b9f",
   "metadata": {},
   "outputs": [],
   "source": [
    "x_cat.head()"
   ]
  },
  {
   "cell_type": "markdown",
   "id": "0c8307af",
   "metadata": {},
   "source": [
    "scaling numericals here"
   ]
  },
  {
   "cell_type": "code",
   "execution_count": null,
   "id": "ad045eba",
   "metadata": {},
   "outputs": [],
   "source": [
    "transformer = MinMaxScaler().fit(x_num)\n",
    "x_min_max = transformer.transform(x_num)\n",
    "x_min_max"
   ]
  },
  {
   "cell_type": "markdown",
   "id": "f5311f8f",
   "metadata": {},
   "source": [
    "transform & encode our data, setting up for linear regression models\n",
    "using 3 different train-test sizes\n",
    "metrics (r squared, mean squared error)"
   ]
  },
  {
   "cell_type": "code",
   "execution_count": null,
   "id": "bc21749d",
   "metadata": {},
   "outputs": [],
   "source": [
    "transformer = Normalizer().fit(x_num)\n",
    "x_normalized = transformer.transform(x_num)\n",
    "encoder = OneHotEncoder().fit(x_cat)\n",
    "encoded = encoder.transform(x_cat).toarray()\n",
    "X = np.concatenate((x_normalized, encoded), axis=1)"
   ]
  },
  {
   "cell_type": "code",
   "execution_count": null,
   "id": "8c548a4f",
   "metadata": {},
   "outputs": [],
   "source": [
    "X_train, X_test, y_train, y_test = train_test_split(X, Y, test_size = 0.2, random_state = 100)"
   ]
  },
  {
   "cell_type": "code",
   "execution_count": null,
   "id": "57f7bd55",
   "metadata": {},
   "outputs": [],
   "source": [
    "X_train.shape"
   ]
  },
  {
   "cell_type": "code",
   "execution_count": null,
   "id": "9df5d597",
   "metadata": {},
   "outputs": [],
   "source": [
    "lm = linear_model.LinearRegression()\n",
    "model = lm.fit(X_train, y_train)\n",
    "predictions  = lm.predict(X_test)\n",
    "print(r2_score(y_test, predictions), mse(y_test, predictions))"
   ]
  },
  {
   "cell_type": "markdown",
   "id": "289becc2",
   "metadata": {},
   "source": [
    "scaling for knn  model here"
   ]
  },
  {
   "cell_type": "code",
   "execution_count": null,
   "id": "a7b8a73b",
   "metadata": {},
   "outputs": [],
   "source": [
    "from sklearn.neighbors import KNeighborsRegressor\n",
    "model = KNeighborsRegressor(n_neighbors = 6)  \n",
    "model.fit(X_train, y_train)\n",
    "\n",
    "predictions = model.predict(X_test)\n",
    "score = model.score(X_test, y_test)\n",
    "\n",
    "lm = linear_model.LinearRegression()\n",
    "model = lm.fit(X_train,y_train)\n",
    "r2_score(y_test, predictions)"
   ]
  },
  {
   "cell_type": "markdown",
   "id": "935f7e6e",
   "metadata": {},
   "source": [
    "first alternative here for benchmark(test_size = 0.4 random_state = 100)\n",
    "r2_score - 0.7218125968088861   mse - 36040260132.244644\n",
    "knn - 0.791567956216187 (n = 10) "
   ]
  },
  {
   "cell_type": "code",
   "execution_count": null,
   "id": "b4ab64dc",
   "metadata": {},
   "outputs": [],
   "source": []
  },
  {
   "cell_type": "markdown",
   "id": "5652f1a8",
   "metadata": {},
   "source": [
    "2nd alternative results for benchmark(test_size = 0.3 random_state = 100)\n",
    "r2_score - 0.7213489908608615   mse - 35901959754.57134\n",
    "knn alternatives - 0.8047915490188631 (n =10)"
   ]
  },
  {
   "cell_type": "code",
   "execution_count": null,
   "id": "e3143381",
   "metadata": {},
   "outputs": [],
   "source": []
  },
  {
   "cell_type": "markdown",
   "id": "c8c706c6",
   "metadata": {},
   "source": [
    "3rd alternative results for benchmark(test_size = 0.2 random_state = 100)\n",
    "r2_score - 0.745428624242114   mse - 31914397687.52856\n",
    "knn alternatives - 0.8201692422906726 (n = 6)"
   ]
  },
  {
   "cell_type": "code",
   "execution_count": null,
   "id": "25983060",
   "metadata": {},
   "outputs": [],
   "source": []
  },
  {
   "cell_type": "markdown",
   "id": "d6ae8fc3",
   "metadata": {},
   "source": [
    "bias over fitting"
   ]
  },
  {
   "cell_type": "code",
   "execution_count": null,
   "id": "e3b1a0f5",
   "metadata": {},
   "outputs": [],
   "source": [
    "#from sklearn.neighbors import KNeighborsRegressor\n",
    "scores = []\n",
    "for i in range(2, 10):\n",
    "    model = KNeighborsRegressor(n_neighbors=i)\n",
    "    model.fit(X_train, y_train)\n",
    "    scores.append(model.score(X_test, y_test))\n",
    "\n",
    "\n",
    "plt.figure(figsize=(10,6))\n",
    "plt.plot(range(2, 10),scores,color = 'blue',linestyle='dashed', \n",
    "         marker='o',markerfacecolor='red', markersize=10)\n",
    "plt.title('accuracy scores vs. K Value')\n",
    "plt.xlabel('K')\n",
    "plt.ylabel('Accuracy')"
   ]
  },
  {
   "cell_type": "markdown",
   "id": "d2e75521",
   "metadata": {},
   "source": [
    "Conclusion"
   ]
  },
  {
   "cell_type": "markdown",
   "id": "0468ce1d",
   "metadata": {},
   "source": [
    "After pre-processing and cleaning our first test had a result of 74%. We had a better performance with the KNN regression model, that we applied after pre-processing, using the MinMax Scaler, and cleanning the Data. This time we had an accuracy of 82% using K = 6."
   ]
  },
  {
   "cell_type": "code",
   "execution_count": null,
   "id": "99146098",
   "metadata": {},
   "outputs": [],
   "source": []
  }
 ],
 "metadata": {
  "kernelspec": {
   "display_name": "Python 3 (ipykernel)",
   "language": "python",
   "name": "python3"
  },
  "language_info": {
   "codemirror_mode": {
    "name": "ipython",
    "version": 3
   },
   "file_extension": ".py",
   "mimetype": "text/x-python",
   "name": "python",
   "nbconvert_exporter": "python",
   "pygments_lexer": "ipython3",
   "version": "3.9.7"
  }
 },
 "nbformat": 4,
 "nbformat_minor": 5
}
